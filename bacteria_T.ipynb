{
 "cells": [
  {
   "cell_type": "code",
<<<<<<< HEAD:Bacteria.ipynb
   "execution_count": 1,
<<<<<<< HEAD
   "id": "hungry-capture",
=======
   "id": "twenty-perth",
>>>>>>> 29347709588318e2fcb764cfc249e34976f822e2
=======
   "execution_count": 11,
   "id": "located-protection",
>>>>>>> 23ef878ff7736635a1a41252891334c583289816:bacteria_T.ipynb
   "metadata": {},
   "outputs": [],
   "source": [
    "from PIL import Image\n",
    "from PIL import ImageOps\n",
    "\n",
    "im = Image.open(\"results_L3.jpg\")\n",
    "im.show()\n",
    "\n",
    "grayIm = ImageOps.grayscale(im)\n",
    "grayIm.show()\n",
    "\n",
    "grayIm.save('greyscale.png')\n",
    "\n"
   ]
  },
  {
   "cell_type": "code",
   "execution_count": null,
<<<<<<< HEAD:Bacteria.ipynb
<<<<<<< HEAD
   "id": "polyphonic-management",
=======
   "id": "atomic-conversation",
>>>>>>> 29347709588318e2fcb764cfc249e34976f822e2
=======
   "id": "adverse-belize",
>>>>>>> 23ef878ff7736635a1a41252891334c583289816:bacteria_T.ipynb
   "metadata": {},
   "outputs": [],
   "source": []
  }
 ],
 "metadata": {
  "kernelspec": {
   "display_name": "Python 3",
   "language": "python",
   "name": "python3"
  },
  "language_info": {
   "codemirror_mode": {
    "name": "ipython",
    "version": 3
   },
   "file_extension": ".py",
   "mimetype": "text/x-python",
   "name": "python",
   "nbconvert_exporter": "python",
   "pygments_lexer": "ipython3",
   "version": "3.8.6"
  }
 },
 "nbformat": 4,
 "nbformat_minor": 5
}
