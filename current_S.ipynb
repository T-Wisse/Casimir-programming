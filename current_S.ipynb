{
 "cells": [
  {
   "cell_type": "code",
   "execution_count": 15,
   "id": "recent-county",
   "metadata": {},
   "outputs": [
    {
     "data": {
      "text/plain": [
       "imageio.core.util.Array"
      ]
     },
     "execution_count": 15,
     "metadata": {},
     "output_type": "execute_result"
    }
   ],
   "source": [
    "# This is Saleh\n",
    "\n",
    "from PIL import Image\n",
    "img = Image.open('results_L3.jpg').convert('LA')\n",
    "# img.save('greyscale.png')\n",
    "\n",
    "import imageio\n",
    "\n",
    "blobs = imageio.imread('greyscale.png', pilmode='L')\n",
    "\n",
    "type(blobs)"
   ]
  },
  {
   "cell_type": "code",
   "execution_count": null,
   "id": "drawn-yield",
   "metadata": {},
   "outputs": [],
   "source": []
  },
  {
   "cell_type": "code",
   "execution_count": null,
   "id": "adolescent-intent",
   "metadata": {},
   "outputs": [],
   "source": []
  },
  {
   "cell_type": "code",
   "execution_count": null,
   "id": "chief-corps",
   "metadata": {},
   "outputs": [],
   "source": []
  }
 ],
 "metadata": {
  "kernelspec": {
   "display_name": "Python 3",
   "language": "python",
   "name": "python3"
  },
  "language_info": {
   "codemirror_mode": {
    "name": "ipython",
    "version": 3
   },
   "file_extension": ".py",
   "mimetype": "text/x-python",
   "name": "python",
   "nbconvert_exporter": "python",
   "pygments_lexer": "ipython3",
   "version": "3.8.6"
  }
 },
 "nbformat": 4,
 "nbformat_minor": 5
}
