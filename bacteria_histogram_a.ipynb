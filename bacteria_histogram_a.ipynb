{
 "cells": [
  {
   "cell_type": "code",
   "execution_count": 36,
   "id": "expressed-adaptation",
   "metadata": {},
   "outputs": [
    {
     "name": "stderr",
     "output_type": "stream",
     "text": [
      "<ipython-input-36-16d437b5264f>:23: FutureWarning: `draw.circle` is deprecated in favor of `draw.disk`.`draw.circle` will be removed in version 0.19\n",
      "  circle = skimage.draw.circle(600, 195, radius=95, shape=image.shape[:2])\n"
     ]
    },
    {
     "data": {
      "image/png": "[encoded data removed]",
      "text/plain": [
       "<Figure size 432x288 with 1 Axes>"
      ]
     },
     "metadata": {
      "needs_background": "light"
     },
     "output_type": "display_data"
    },
    {
     "name": "stdout",
     "output_type": "stream",
     "text": [
      "33 % filled by bacteria colonies\n"
     ]
    }
   ],
   "source": [
    "\"\"\"\n",
    " * Python program to create a color histogram on a masked image.\n",
    " *\n",
    " * Usage: python ColorHistogramMask.py <filename>\n",
    "\"\"\"\n",
    "import sys\n",
    "import skimage.io\n",
    "import skimage.viewer\n",
    "import skimage.draw\n",
    "import numpy as np\n",
    "from matplotlib import pyplot as plt\n",
    "filename = 'greyscale.png'\n",
    "\n",
    "\n",
    "# read original image, in full color, based on command\n",
    "# line argument\n",
    "image = skimage.io.imread(fname=filename)\n",
    "\n",
    "\n",
    "# create a circular mask to select the 7th well in the first row\n",
    "\n",
    "mask = np.zeros(shape=image.shape[0:2], dtype=\"bool\")\n",
    "circle = skimage.draw.circle(600, 195, radius=95, shape=image.shape[:2])\n",
    "mask[circle] = 1\n",
    "\n",
    "# just for display:\n",
    "# make a copy of the image, call it masked_image, and\n",
    "# use np.logical_not() and indexing to apply the mask to it\n",
    "\n",
    "masked_img = image[:]\n",
    "masked_img[np.logical_not(mask)] = 0\n",
    "\n",
    "\n",
    "dot = filename.index(\".\")\n",
    "binary_file_name = filename[:dot] + \"-masked\" + filename[dot:]\n",
    "skimage.io.imsave(fname=binary_file_name, arr=skimage.img_as_ubyte(masked_img))\n",
    "\n",
    "# create the histogram plot, with three lines, one for\n",
    "# each color\n",
    "plt.xlim([0, 256])\n",
    "# for (channel_id, c) in zip(channel_ids, colors):\n",
    "    # change this to use your circular mask to apply the histogram\n",
    "    # operation to the 7th well of the first row\n",
    "\n",
    "histogram, bin_edges = np.histogram(image[:, :, 0][mask], bins=256, range=(0, 256))\n",
    "plt.plot(histogram, color=\"k\")\n",
    "\n",
    "plt.xlabel(\"value\")\n",
    "plt.ylabel(\"pixel count\")\n",
    "plt.show()\n",
    "\n",
    "print(np.count_nonzero (histogram > 100),\"%\", \"filled by bacteria colonies\")\n"
   ]
  },
  {
   "cell_type": "code",
   "execution_count": 35,
   "id": "numeric-queens",
   "metadata": {},
   "outputs": [
    {
     "data": {
      "text/plain": [
       "array([   0,    0,    0,    0,    0,    0,    0,    0,    0,    0,    0,\n",
       "          0,    0,    0,    0,    0,    0,    0,    0,    0,    0,    0,\n",
       "          0,    0,    0,    0,    0,    0,    0,    0,    0,    0,    0,\n",
       "          0,    0,    0,    0,    0,    0,    0,    1,    1,    1,    0,\n",
       "          7,    2,    8,   11,   13,   17,   27,   48,   50,   48,   74,\n",
       "         76,   78,  108,  148,  175,  211,  259,  303,  370,  416,  483,\n",
       "        663,  832,  973, 1053, 1149, 1259, 1337, 1470, 1499, 1592, 1823,\n",
       "       1555, 1420, 1153,  950,  896,  793,  652,  614,  519,  324,  229,\n",
       "        162,  126,   92,   98,   89,   91,   66,   82,   78,   65,   84,\n",
       "         63,   45,   40,   32,   31,   29,   20,   24,   24,   23,   16,\n",
       "         30,   35,   23,   22,   26,   26,   22,   26,   23,   17,   18,\n",
       "         14,   15,   15,   20,   12,   19,   11,   27,   15,   14,    8,\n",
       "         11,    9,   14,   11,   11,   11,   13,    8,   11,   17,    9,\n",
       "         11,   14,    7,   16,   15,   15,   22,   12,   17,   17,   13,\n",
       "          9,   23,   12,    8,   10,   10,   13,   15,   10,    9,   13,\n",
       "         14,   18,    9,   16,   12,   23,   17,   11,   17,   13,   18,\n",
       "         15,   16,   16,    9,   13,   14,   12,    8,   12,   11,   13,\n",
       "          9,   11,    5,    9,    2,    9,   11,    5,    9,    3,    3,\n",
       "          4,    2,    1,    6,    3,    2,    1,    0,    3,    1,    1,\n",
       "          0,    0,    1,    0,    0,    0,    0,    0,    0,    0,    0,\n",
       "          0,    0,    0,    0,    0,    1,    0,    0,    0,    0,    0,\n",
       "          0,    0,    0,    0,    0,    0,    0,    0,    0,    0,    0,\n",
       "          0,    0,    0,    0,    0,    0,    0,    0,    0,    0,    0,\n",
       "          0,    0,    0])"
      ]
     },
     "execution_count": 35,
     "metadata": {},
     "output_type": "execute_result"
    }
   ],
   "source": [
    "histogram"
   ]
  },
  {
   "cell_type": "code",
   "execution_count": null,
   "id": "earned-repository",
   "metadata": {},
   "outputs": [],
   "source": []
  }
 ],
 "metadata": {
  "kernelspec": {
   "display_name": "Python 3",
   "language": "python",
   "name": "python3"
  },
  "language_info": {
   "codemirror_mode": {
    "name": "ipython",
    "version": 3
   },
   "file_extension": ".py",
   "mimetype": "text/x-python",
   "name": "python",
   "nbconvert_exporter": "python",
   "pygments_lexer": "ipython3",
   "version": "3.8.6"
  }
 },
 "nbformat": 4,
 "nbformat_minor": 5
}
