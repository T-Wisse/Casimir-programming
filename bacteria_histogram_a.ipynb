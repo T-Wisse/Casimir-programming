{
 "cells": [
  {
   "cell_type": "code",
   "execution_count": 19,
   "id": "loving-chicago",
   "metadata": {},
   "outputs": [
    {
     "name": "stderr",
     "output_type": "stream",
     "text": [
      "<ipython-input-19-f706321767cf>:23: FutureWarning: `draw.circle` is deprecated in favor of `draw.disk`.`draw.circle` will be removed in version 0.19\n",
      "  circle = skimage.draw.circle(600, 195, radius=95, shape=image.shape[:2])\n"
     ]
    },
    {
     "data": {
      "image/png": "[encoded data removed]",
      "text/plain": [
       "<Figure size 432x288 with 1 Axes>"
      ]
     },
     "metadata": {
      "needs_background": "light"
     },
     "output_type": "display_data"
    }
   ],
   "source": [
    "\"\"\"\n",
    " * Python program to create a color histogram on a masked image.\n",
    " *\n",
    " * Usage: python ColorHistogramMask.py <filename>\n",
    "\"\"\"\n",
    "import sys\n",
    "import skimage.io\n",
    "import skimage.viewer\n",
    "import skimage.draw\n",
    "import numpy as np\n",
    "from matplotlib import pyplot as plt\n",
    "filename = 'results_L3.jpg'\n",
    "\n",
    "\n",
    "# read original image, in full color, based on command\n",
    "# line argument\n",
    "image = skimage.io.imread(fname=filename)\n",
    "\n",
    "\n",
    "# create a circular mask to select the 7th well in the first row\n",
    "\n",
    "mask = np.zeros(shape=image.shape[0:2], dtype=\"bool\")\n",
    "circle = skimage.draw.circle(600, 195, radius=95, shape=image.shape[:2])\n",
    "mask[circle] = 1\n",
    "\n",
    "# just for display:\n",
    "# make a copy of the image, call it masked_image, and\n",
    "# use np.logical_not() and indexing to apply the mask to it\n",
    "\n",
    "masked_img = image[:]\n",
    "masked_img[np.logical_not(mask)] = 0\n",
    "\n",
    "\n",
    "dot = filename.index(\".\")\n",
    "binary_file_name = filename[:dot] + \"-masked\" + filename[dot:]\n",
    "skimage.io.imsave(fname=binary_file_name, arr=skimage.img_as_ubyte(masked_img))\n",
    "\n",
    "# list to select colors of each channel line\n",
    "colors = (\"r\", \"g\", \"b\")\n",
    "channel_ids = (0, 1, 2)\n",
    "\n",
    "# create the histogram plot, with three lines, one for\n",
    "# each color\n",
    "plt.xlim([0, 150])\n",
    "for (channel_id, c) in zip(channel_ids, colors):\n",
    "    # change this to use your circular mask to apply the histogram\n",
    "    # operation to the 7th well of the first row\n",
    "\n",
    "    histogram, bin_edges = np.histogram(\n",
    "        image[:, :, channel_id][mask], bins=256, range=(0, 256)\n",
    "    )\n",
    "\n",
    "    plt.plot(histogram, color=c)\n",
    "\n",
    "plt.xlabel(\"color value\")\n",
    "plt.ylabel(\"pixel count\")\n",
    "\n",
    "plt.show()"
   ]
  },
  {
   "cell_type": "code",
   "execution_count": 20,
   "id": "funny-villa",
   "metadata": {},
   "outputs": [
    {
     "data": {
      "text/plain": [
       "array([   0,    0,    0,    0,    0,    0,    0,    0,    0,    0,    0,\n",
       "          0,    0,    0,    0,    0,    0,    0,    0,    0,    0,    0,\n",
       "          0,    0,    0,    0,    0,    0,    0,    0,    0,    0,    0,\n",
       "          1,    0,    0,    1,    3,    1,    2,    1,   13,   20,   26,\n",
       "         24,   25,   32,   40,   52,   64,  100,  106,  138,  154,  196,\n",
       "        229,  272,  288,  336,  387,  411,  495,  561,  663,  759,  921,\n",
       "       1127, 1293, 1637, 1903, 1922, 2037, 1743, 1342, 1130, 1003,  967,\n",
       "        901,  776,  648,  433,  318,  248,  184,  147,  148,  108,  104,\n",
       "        121,  113,   97,  109,   79,   96,  101,   68,   76,   42,   49,\n",
       "         47,   41,   26,   20,   21,   23,   23,   22,   21,   26,   18,\n",
       "         24,   14,   20,   13,   12,   23,   20,   19,   28,   16,   25,\n",
       "         21,   19,   13,   25,   16,   23,   18,   12,   11,    4,   14,\n",
       "         10,   18,   13,   10,    6,   16,   10,   18,    9,    5,   16,\n",
       "          9,    7,    5,    8,    7,    4,    7,    4,    4,    7,    4,\n",
       "          3,    2,    6,    2,    6,    1,    3,    2,    2,    3,    3,\n",
       "          1,    3,    2,    1,    2,    2,    1,    2,    1,    0,    0,\n",
       "          1,    0,    2,    2,    0,    1,    0,    1,    0,    1,    2,\n",
       "          0,    0,    1,    0,    0,    1,    1,    1,    0,    0,    1,\n",
       "          0,    1,    0,    0,    0,    2,    0,    0,    0,    0,    0,\n",
       "          0,    0,    0,    0,    0,    0,    0,    0,    0,    0,    0,\n",
       "          0,    1,    0,    0,    0,    0,    0,    0,    0,    0,    0,\n",
       "          0,    0,    0,    0,    0,    0,    0,    0,    0,    0,    0,\n",
       "          0,    0,    0,    0,    0,    0,    0,    0,    0,    0,    0,\n",
       "          0,    0,    0])"
      ]
     },
     "execution_count": 20,
     "metadata": {},
     "output_type": "execute_result"
    }
   ],
   "source": [
    "histogram"
   ]
  },
  {
   "cell_type": "code",
   "execution_count": null,
   "id": "handmade-ocean",
   "metadata": {},
   "outputs": [],
   "source": []
  }
 ],
 "metadata": {
  "kernelspec": {
   "display_name": "Python 3",
   "language": "python",
   "name": "python3"
  },
  "language_info": {
   "codemirror_mode": {
    "name": "ipython",
    "version": 3
   },
   "file_extension": ".py",
   "mimetype": "text/x-python",
   "name": "python",
   "nbconvert_exporter": "python",
   "pygments_lexer": "ipython3",
   "version": "3.8.6"
  }
 },
 "nbformat": 4,
 "nbformat_minor": 5
}
