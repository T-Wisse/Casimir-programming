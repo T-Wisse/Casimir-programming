{
 "cells": [
  {
   "cell_type": "code",
   "execution_count": 33,
   "id": "eastern-disposition",
   "metadata": {},
   "outputs": [
    {
     "name": "stdout",
     "output_type": "stream",
     "text": [
      "hello Bacteria\n"
     ]
    }
   ],
   "source": [
    "print (\"hello Bacteria\")\n",
    "\n",
    "\n",
    "\n",
    "from PIL import Image\n",
    "# img = Image.open('results_L3.jpg').convert('LA')\n",
    "# img.save('greyscale.png')\n",
    "\n",
    "import sys\n",
    "import numpy as np\n",
    "import skimage.color\n",
    "import skimage.filters\n",
    "import skimage.io\n",
    "import skimage.viewer\n",
    "\n",
    "# get filename, sigma, and threshold value from command line\n",
    "filename = 'results_L3.jpg'\n",
    "sigma = 1\n",
    "t = 0.8\n",
    "\n",
    "image = skimage.io.imread(fname=filename)\n",
    "\n",
    "# create the histogram\n",
    "histogram, bin_edges = np.histogram(image, bins=256, range=(0, 1))\n",
    "\n",
    "# configure and draw the histogram figure\n",
    "plt.figure()\n",
    "plt.title(\"Grayscale Histogram\")\n",
    "plt.xlabel(\"grayscale value\")\n",
    "plt.ylabel(\"pixels\")\n",
    "plt.xlim([0.0, 1.0])  # <- named arguments do not work here\n",
    "\n",
    "plt.plot(bin_edges[0:-1], histogram)  # <- or here\n",
    "plt.show()\n",
    "\n",
    "# blur and grayscale before thresholding\n",
    "blur = skimage.color.rgb2gray(image)\n",
    "blur = skimage.filters.gaussian(blur, sigma)\n",
    "\n",
    "# perform inverse binary thresholding\n",
    "t = skimage.filters.threshold_otsu(blur)\n",
    "mask = blur > t\n",
    "\n",
    "# use the mask to select the \"interesting\" part of the image\n",
    "sel = np.zeros_like(image)\n",
    "sel[mask] = image[mask]\n",
    "\n",
    "# save binary image; first find beginning of file extension\n",
    "dot = filename.index(\".\")\n",
    "binary_file_name = filename[:dot] + \"-binary\" + filename[dot:]\n",
    "skimage.io.imsave(fname=binary_file_name, arr=skimage.img_as_ubyte(sel))"
   ]
  },
  {
   "cell_type": "code",
   "execution_count": null,
   "id": "injured-rapid",
   "metadata": {},
   "outputs": [],
   "source": []
  }
 ],
 "metadata": {
  "kernelspec": {
   "display_name": "Python 3",
   "language": "python",
   "name": "python3"
  },
  "language_info": {
   "codemirror_mode": {
    "name": "ipython",
    "version": 3
   },
   "file_extension": ".py",
   "mimetype": "text/x-python",
   "name": "python",
   "nbconvert_exporter": "python",
   "pygments_lexer": "ipython3",
   "version": "3.8.6"
  }
 },
 "nbformat": 4,
 "nbformat_minor": 5
}
