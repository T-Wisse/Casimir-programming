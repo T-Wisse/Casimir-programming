{
 "cells": [
  {
   "cell_type": "code",
   "execution_count": 1,
   "id": "collected-tennessee",
   "metadata": {},
   "outputs": [
    {
     "name": "stdout",
     "output_type": "stream",
     "text": [
      "hello word\n"
     ]
    }
   ],
   "source": [
    "print (\"hello Bacteria\")"
   ]
  },
  {
   "cell_type": "code",
   "execution_count": 2,
   "id": "southeast-egyptian",
   "metadata": {},
   "outputs": [],
   "source": [
    "from PIL import Image\n",
    "img = Image.open('results_L3.jpg').convert('LA')\n",
    "img.save('greyscale.png')"
   ]
  },
  {
   "cell_type": "code",
   "execution_count": null,
   "id": "frank-chorus",
   "metadata": {},
   "outputs": [],
   "source": []
  }
 ],
 "metadata": {
  "kernelspec": {
   "display_name": "Python 3",
   "language": "python",
   "name": "python3"
  },
  "language_info": {
   "codemirror_mode": {
    "name": "ipython",
    "version": 3
   },
   "file_extension": ".py",
   "mimetype": "text/x-python",
   "name": "python",
   "nbconvert_exporter": "python",
   "pygments_lexer": "ipython3",
   "version": "3.8.6"
  }
 },
 "nbformat": 4,
 "nbformat_minor": 5
}
